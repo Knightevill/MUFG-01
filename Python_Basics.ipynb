{
 "cells": [
  {
   "cell_type": "code",
   "execution_count": 3,
   "id": "cdb650d3",
   "metadata": {},
   "outputs": [
    {
     "name": "stdout",
     "output_type": "stream",
     "text": [
      "10 Jeevan 90000\n"
     ]
    }
   ],
   "source": [
    "a=10\n",
    "name=\"Jeevan\"\n",
    "salary=90000\n",
    "print(a,name,salary)"
   ]
  },
  {
   "cell_type": "code",
   "execution_count": 4,
   "id": "4b0277ff",
   "metadata": {},
   "outputs": [
    {
     "name": "stdout",
     "output_type": "stream",
     "text": [
      "11 11 11 10 20 30\n"
     ]
    }
   ],
   "source": [
    "A=B=C=11\n",
    "x=10\n",
    "y=20\n",
    "z=30\n",
    "print(A,B,C,x,y,z)"
   ]
  },
  {
   "cell_type": "code",
   "execution_count": 5,
   "id": "87f2fbce",
   "metadata": {},
   "outputs": [
    {
     "name": "stdout",
     "output_type": "stream",
     "text": [
      "200\n"
     ]
    }
   ],
   "source": [
    "a=200\n",
    "if a==200:\n",
    "    print(a)"
   ]
  },
  {
   "cell_type": "code",
   "execution_count": 6,
   "id": "6d65ff26",
   "metadata": {},
   "outputs": [
    {
     "name": "stdout",
     "output_type": "stream",
     "text": [
      "200is the value\n"
     ]
    }
   ],
   "source": [
    "a=200\n",
    "if a==20:\n",
    "    print(\"a has only 20 in it\")\n",
    "else:\n",
    "    print(f\"{a}is the value\")"
   ]
  },
  {
   "cell_type": "code",
   "execution_count": 7,
   "id": "cdf59863",
   "metadata": {},
   "outputs": [
    {
     "name": "stdout",
     "output_type": "stream",
     "text": [
      "value is below 69\n"
     ]
    }
   ],
   "source": [
    "A=69\n",
    "if A<=30:\n",
    "    print(\"value is below 30\")\n",
    "elif A<=50:\n",
    "    print(\"value is below 50\")\n",
    "else:\n",
    "    print(\"value is below 69\")"
   ]
  },
  {
   "cell_type": "code",
   "execution_count": 8,
   "id": "e728a306",
   "metadata": {},
   "outputs": [
    {
     "name": "stdout",
     "output_type": "stream",
     "text": [
      "1\n",
      "2\n",
      "3\n",
      "4\n",
      "5\n"
     ]
    }
   ],
   "source": [
    "a=1\n",
    "while a<6:\n",
    "    print(a)\n",
    "    a += 1"
   ]
  },
  {
   "cell_type": "code",
   "execution_count": 9,
   "id": "61459d31",
   "metadata": {},
   "outputs": [
    {
     "name": "stdout",
     "output_type": "stream",
     "text": [
      "http://jeevan.com is not secure\n",
      "https://pradeep.com is secure\n"
     ]
    }
   ],
   "source": [
    "website = [\"http://jeevan.com\",\"https://pradeep.com\"]\n",
    "for site in website:\n",
    "    if site.startswith(\"https\"):\n",
    "        print(site,\"is secure\")\n",
    "    else:\n",
    "        print(site,\"is not secure\")"
   ]
  },
  {
   "cell_type": "code",
   "execution_count": 10,
   "id": "efb5de44",
   "metadata": {},
   "outputs": [
    {
     "name": "stdout",
     "output_type": "stream",
     "text": [
      "checking pen\n",
      "checking pencil\n",
      "checking book\n",
      "item found stop searching\n"
     ]
    }
   ],
   "source": [
    "items=[\"pen\",\"pencil\",\"book\",\"guttu\"]\n",
    "for item in items:\n",
    "    print(\"checking\",item)\n",
    "    if item==\"book\":\n",
    "        print(\"item found stop searching\")\n",
    "        break"
   ]
  },
  {
   "cell_type": "code",
   "execution_count": 11,
   "id": "87e14ec7",
   "metadata": {},
   "outputs": [
    {
     "name": "stdout",
     "output_type": "stream",
     "text": [
      "avilable item : pen\n",
      "avilable item : pecil\n",
      "avilable item : book\n"
     ]
    }
   ],
   "source": [
    "items=[\"pen\",\"outofstock\",\"pecil\",\"outofstock\",\"book\"]\n",
    "for item in items:\n",
    "    if item==\"outofstock\":\n",
    "        continue\n",
    "    print(\"avilable item :\",item)"
   ]
  },
  {
   "cell_type": "code",
   "execution_count": 12,
   "id": "9c63c3cd",
   "metadata": {},
   "outputs": [
    {
     "name": "stdout",
     "output_type": "stream",
     "text": [
      "i am jeevan\n"
     ]
    }
   ],
   "source": [
    "def who(name):\n",
    "    return \"i am \" + name\n",
    "print(who(\"jeevan\"))"
   ]
  },
  {
   "cell_type": "code",
   "execution_count": 13,
   "id": "45da74c6",
   "metadata": {},
   "outputs": [
    {
     "name": "stdout",
     "output_type": "stream",
     "text": [
      "QR is saved at: C:\\Users\\jeevan\\OneDrive\\Pictures\\jeevan_instagram_qr.png\n"
     ]
    }
   ],
   "source": [
    "import qrcode\n",
    "\n",
    "def generate_qr(link):\n",
    "    qr = qrcode.make(link)\n",
    "    filepath = r\"C:\\Users\\jeevan\\OneDrive\\Pictures\\jeevan_instagram_qr.png\"\n",
    "    qr.save(filepath)\n",
    "    print(\"QR is saved at:\", filepath)\n",
    "\n",
    "# Your Instagram profile link\n",
    "generate_qr(\"https://www.instagram.com/_jeevan_teja__/\")\n"
   ]
  },
  {
   "cell_type": "code",
   "execution_count": null,
   "id": "ce33b393",
   "metadata": {},
   "outputs": [],
   "source": []
  }
 ],
 "metadata": {
  "kernelspec": {
   "display_name": "Python 3",
   "language": "python",
   "name": "python3"
  },
  "language_info": {
   "codemirror_mode": {
    "name": "ipython",
    "version": 3
   },
   "file_extension": ".py",
   "mimetype": "text/x-python",
   "name": "python",
   "nbconvert_exporter": "python",
   "pygments_lexer": "ipython3",
   "version": "3.13.3"
  }
 },
 "nbformat": 4,
 "nbformat_minor": 5
}
